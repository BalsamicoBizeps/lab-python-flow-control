{
 "cells": [
  {
   "cell_type": "markdown",
   "id": "d3bfc191-8885-42ee-b0a0-bbab867c6f9f",
   "metadata": {
    "tags": []
   },
   "source": [
    "# Lab | Flow Control"
   ]
  },
  {
   "cell_type": "markdown",
   "id": "3851fcd1-cf98-4653-9c89-e003b7ec9400",
   "metadata": {},
   "source": [
    "## Exercise: Managing Customer Orders Optimized\n",
    "\n",
    "In the last lab, you were starting an online store that sells various products. To ensure smooth operations, you developed a program that manages customer orders and inventory.\n",
    "\n",
    "You did so without using flow control. Let's go a step further and improve this code.\n",
    "\n",
    "Follow the steps below to complete the exercise:\n",
    "\n",
    "1. Look at your code from the lab data structures, and improve repeated code with loops.\n",
    "\n",
    "2. Instead of asking the user to input the name of three products that a customer wants to order, do the following:\n",
    "    \n",
    "    a. Prompt the user to enter the name of a product that a customer wants to order.\n",
    "    \n",
    "    b. Add the product name to the \"customer_orders\" set.\n",
    "    \n",
    "    c. Ask the user if they want to add another product (yes/no).\n",
    "    \n",
    "    d. Continue the loop until the user does not want to add another product.\n",
    "\n",
    "3. Instead of updating the inventory by subtracting 1 from the quantity of each product, only do it for  the products that were ordered (those in \"customer_orders\")."
   ]
  },
  {
   "cell_type": "code",
   "execution_count": 43,
   "id": "743b517b-a679-4023-b3fc-cd1a905e7135",
   "metadata": {},
   "outputs": [
    {
     "name": "stdin",
     "output_type": "stream",
     "text": [
      "Amount of t-shirt in inventory 5\n",
      "Amount of mug in inventory 5\n",
      "Amount of hat in inventory 5\n",
      "Amount of book in inventory 5\n",
      "Amount of keychain in inventory 5\n"
     ]
    },
    {
     "name": "stdout",
     "output_type": "stream",
     "text": [
      "{'t-shirt': 5, 'mug': 5, 'hat': 5, 'book': 5, 'keychain': 5}\n"
     ]
    }
   ],
   "source": [
    "products = [\"t-shirt\", \"mug\", \"hat\", \"book\", \"keychain\"] # List of products\n",
    "inventory = {}\n",
    "\n",
    "for product in products:\n",
    "    inventory[product] = int(input(f\"Amount of {product} in inventory\")) \n",
    "\n",
    "print(inventory)"
   ]
  },
  {
   "cell_type": "code",
   "execution_count": 57,
   "id": "afd6f344-0934-483c-a5c2-a8dfeb821469",
   "metadata": {},
   "outputs": [
    {
     "name": "stdin",
     "output_type": "stream",
     "text": [
      "Please let us know which product you would like to order (t-shirt, mug, hat, book, keychain):  book\n",
      "Would you like to order another product? (yes / no):  sdf\n"
     ]
    },
    {
     "name": "stdout",
     "output_type": "stream",
     "text": [
      "Invalid input. Please answer 'yes' or 'no'\n"
     ]
    },
    {
     "name": "stdin",
     "output_type": "stream",
     "text": [
      "Would you like to order another product? (yes / no):  book\n"
     ]
    },
    {
     "name": "stdout",
     "output_type": "stream",
     "text": [
      "Invalid input. Please answer 'yes' or 'no'\n"
     ]
    },
    {
     "name": "stdin",
     "output_type": "stream",
     "text": [
      "Would you like to order another product? (yes / no):  yes\n",
      "Please let us know which product you would like to order (t-shirt, mug, hat, book, keychain):  hat\n",
      "Would you like to order another product? (yes / no):  yes\n",
      "Please let us know which product you would like to order (t-shirt, mug, hat, book, keychain):  mug\n",
      "Would you like to order another product? (yes / no):  no\n"
     ]
    },
    {
     "name": "stdout",
     "output_type": "stream",
     "text": [
      "{'hat', 'book', 'mug'}\n",
      "Total products ordered: 3\n"
     ]
    }
   ],
   "source": [
    "# asking for input of products bought by customer using while loop\n",
    "\n",
    "customer_orders = set()\n",
    "\n",
    "next_order = True\n",
    "\n",
    "while next_order == True:\n",
    "    customer_orders.add(input(\"Please let us know which product you would like to order (t-shirt, mug, hat, book, keychain): \"))\n",
    "    new_order = input(\"Would you like to order another product? (yes / no): \")\n",
    "    if new_order.lower() == \"yes\":\n",
    "        next_order = True\n",
    "    elif new_order.lower() == \"no\":\n",
    "        next_order = False\n",
    "    else:\n",
    "        while new_order.lower() not in [\"yes\", \"no\"]:\n",
    "            print(\"Invalid input. Please answer 'yes' or 'no'\")\n",
    "            new_order = input(\"Would you like to order another product? (yes / no): \")\n",
    "            if new_order.lower() == \"yes\":\n",
    "                next_order = True\n",
    "            elif new_order.lower() == \"no\":\n",
    "                next_order = False\n",
    "\n",
    "\n",
    "print(customer_orders)\n",
    "print(\"Total products ordered: \" + str(len(customer_orders))) # returns number of orders products"
   ]
  },
  {
   "cell_type": "code",
   "execution_count": 55,
   "id": "acb12693-ff53-41fa-87e4-c92907ee9647",
   "metadata": {},
   "outputs": [
    {
     "name": "stdout",
     "output_type": "stream",
     "text": [
      "t-shirt: 5\n",
      "mug: 5\n",
      "hat: 5\n",
      "book: 4\n",
      "keychain: 4\n"
     ]
    }
   ],
   "source": [
    "for product in inventory:\n",
    "    if product in customer_orders:\n",
    "        inventory[product] -=1\n",
    "\n",
    "for key, value in inventory.items():\n",
    "    print(f\"{key}: {value}\")"
   ]
  },
  {
   "cell_type": "code",
   "execution_count": null,
   "id": "30e2f569-8b5e-4813-967f-e21585acabb0",
   "metadata": {},
   "outputs": [],
   "source": []
  },
  {
   "cell_type": "code",
   "execution_count": null,
   "id": "f732e71d-b059-441f-bc5f-daf3718e671e",
   "metadata": {},
   "outputs": [],
   "source": []
  }
 ],
 "metadata": {
  "kernelspec": {
   "display_name": "Python 3 (ipykernel)",
   "language": "python",
   "name": "python3"
  },
  "language_info": {
   "codemirror_mode": {
    "name": "ipython",
    "version": 3
   },
   "file_extension": ".py",
   "mimetype": "text/x-python",
   "name": "python",
   "nbconvert_exporter": "python",
   "pygments_lexer": "ipython3",
   "version": "3.12.4"
  }
 },
 "nbformat": 4,
 "nbformat_minor": 5
}
